{
  "nbformat": 4,
  "nbformat_minor": 0,
  "metadata": {
    "colab": {
      "provenance": [],
      "include_colab_link": true
    },
    "kernelspec": {
      "name": "python3",
      "display_name": "Python 3"
    },
    "language_info": {
      "name": "python"
    }
  },
  "cells": [
    {
      "cell_type": "markdown",
      "metadata": {
        "id": "view-in-github",
        "colab_type": "text"
      },
      "source": [
        "<a href=\"https://colab.research.google.com/github/b2221450/Prmn2023a/blob/main/PythonBasic_2_Question_ipynb_%E3%81%AE%E3%82%B3%E3%83%94%E3%83%BC.ipynb\" target=\"_parent\"><img src=\"https://colab.research.google.com/assets/colab-badge.svg\" alt=\"Open In Colab\"/></a>"
      ]
    },
    {
      "cell_type": "markdown",
      "source": [
        "# 第2章 課題"
      ],
      "metadata": {
        "id": "C44SsXDACtHu"
      }
    },
    {
      "cell_type": "markdown",
      "source": [
        "## 課題1"
      ],
      "metadata": {
        "id": "OnkezWHRCwr9"
      }
    },
    {
      "cell_type": "markdown",
      "source": [
        "for文を使って、以下のように出力してください"
      ],
      "metadata": {
        "id": "q32rK-cECzCl"
      }
    },
    {
      "cell_type": "markdown",
      "source": [
        "![oSFeQoX.png](https://i.imgur.com/oSFeQoX.png)"
      ],
      "metadata": {
        "id": "FxMcxznVB6cI"
      }
    },
    {
      "cell_type": "code",
      "source": [
        "n=4\n",
        "for i in range(1,n+1):\n",
        "  for j in range(n-i):\n",
        "    print(\" \",end=\"\")\n",
        "  for k in range(2*i-1):\n",
        "     print(\"*\",end=\"\") \n",
        "  print(\"\\n\") \n",
        "\n"
      ],
      "metadata": {
        "id": "4GqxKp8s1E9n",
        "outputId": "af15f80f-0f54-4f00-c667-e906f90aa0f1",
        "colab": {
          "base_uri": "https://localhost:8080/"
        }
      },
      "execution_count": null,
      "outputs": [
        {
          "output_type": "stream",
          "name": "stdout",
          "text": [
            "   *\n",
            "\n",
            "  ***\n",
            "\n",
            " *****\n",
            "\n",
            "*******\n",
            "\n"
          ]
        }
      ]
    },
    {
      "cell_type": "markdown",
      "source": [
        "## 課題2"
      ],
      "metadata": {
        "id": "gIn-UqGTCagu"
      }
    },
    {
      "cell_type": "markdown",
      "source": [
        "課題1の場合を`n=4`として、nを自分で設定して出力できるようにしてください"
      ],
      "metadata": {
        "id": "ltdiEdqYDFy8"
      }
    },
    {
      "cell_type": "markdown",
      "source": [
        "＜例＞ n=5の場合  \n",
        "![o5NjugQ.png](https://imgur.com/o5NjugQ.png)"
      ],
      "metadata": {
        "id": "hw0FM8BRDHz1"
      }
    },
    {
      "cell_type": "code",
      "source": [
        "# 入力用\n",
        "n=int(input())\n",
        "for i in range(1,n+1):\n",
        "  for j in range(n-i):\n",
        "    print(\" \",end=\"\")\n",
        "  for k in range(2*i-1):\n",
        "     print(\"*\",end=\"\") \n",
        "  print(\"\\n\") "
      ],
      "metadata": {
        "id": "upd76Tv-FrIB",
        "outputId": "08bdbda6-b8da-4d07-fcfe-d03669b64162",
        "colab": {
          "base_uri": "https://localhost:8080/"
        }
      },
      "execution_count": null,
      "outputs": [
        {
          "output_type": "stream",
          "name": "stdout",
          "text": [
            "5\n",
            "    *\n",
            "\n",
            "   ***\n",
            "\n",
            "  *****\n",
            "\n",
            " *******\n",
            "\n",
            "*********\n",
            "\n"
          ]
        }
      ]
    },
    {
      "cell_type": "markdown",
      "source": [
        "## 課題3"
      ],
      "metadata": {
        "id": "tLMJvwBDE7wT"
      }
    },
    {
      "cell_type": "markdown",
      "source": [
        "for文を使って、以下のように出力してください"
      ],
      "metadata": {
        "id": "vZNvWsG7E99q"
      }
    },
    {
      "cell_type": "markdown",
      "source": [
        "![oSirXec.png](https://imgur.com/oSirXec.png)"
      ],
      "metadata": {
        "id": "ijOV-ilXGDNR"
      }
    },
    {
      "cell_type": "code",
      "source": [
        "# 入力用\n",
        "n=4\n",
        "for i in range(1,n+1):\n",
        "  for j in range(n-i):\n",
        "    print(\" \",end=\"\")\n",
        "  for k in range(2*i-1):\n",
        "     print(\"*\",end=\"\") \n",
        "  print(\"\\n\") \n",
        "for l in range(n-1,-1,-1):  \n",
        "  for j in range(n-l):\n",
        "    print(\" \",end=\"\")\n",
        "  for k in range(2*l-1):\n",
        "     print(\"*\",end=\"\") \n",
        "  print(\"\\n\")"
      ],
      "metadata": {
        "id": "Q5Ob9uZpGIE3",
        "colab": {
          "base_uri": "https://localhost:8080/"
        },
        "outputId": "1943fdf5-b298-403a-d74f-2d1b8f13b79e"
      },
      "execution_count": null,
      "outputs": [
        {
          "output_type": "stream",
          "name": "stdout",
          "text": [
            "   *\n",
            "\n",
            "  ***\n",
            "\n",
            " *****\n",
            "\n",
            "*******\n",
            "\n",
            " *****\n",
            "\n",
            "  ***\n",
            "\n",
            "   *\n",
            "\n",
            "    \n",
            "\n"
          ]
        }
      ]
    },
    {
      "cell_type": "markdown",
      "source": [
        "## 課題4"
      ],
      "metadata": {
        "id": "Oh7whOPkGQ3I"
      }
    },
    {
      "cell_type": "markdown",
      "source": [
        "課題3の場合を`n=4`として、nを自分で設定して出力できるようにしてください"
      ],
      "metadata": {
        "id": "PnvT8MQbGS03"
      }
    },
    {
      "cell_type": "markdown",
      "source": [
        "＜例＞ n=5の場合  \n",
        "\n",
        "![my4J17V.png](https://i.imgur.com/my4J17V.png)"
      ],
      "metadata": {
        "id": "ZujkAbVMGzhn"
      }
    },
    {
      "cell_type": "code",
      "source": [
        "# 入力用\n",
        "n=int(input())\n",
        "for i in range(1,n+1):\n",
        "  for j in range(n-i):\n",
        "    print(\" \",end=\"\")\n",
        "  for k in range(2*i-1):\n",
        "     print(\"*\",end=\"\") \n",
        "  print(\"\\n\") \n",
        "for l in range(n-1,0,-1):  \n",
        "  for j in range(n-l):\n",
        "    print(\" \",end=\"\")\n",
        "  for k in range(2*l-1):\n",
        "     print(\"*\",end=\"\") \n",
        "  print(\"\\n\")"
      ],
      "metadata": {
        "id": "hCFNQ7mWG99u",
        "colab": {
          "base_uri": "https://localhost:8080/"
        },
        "outputId": "76ba331a-92d1-4820-eb37-39566e201ed8"
      },
      "execution_count": null,
      "outputs": [
        {
          "output_type": "stream",
          "name": "stdout",
          "text": [
            "5\n",
            "    *\n",
            "\n",
            "   ***\n",
            "\n",
            "  *****\n",
            "\n",
            " *******\n",
            "\n",
            "*********\n",
            "\n",
            " *******\n",
            "\n",
            "  *****\n",
            "\n",
            "   ***\n",
            "\n",
            "    *\n",
            "\n"
          ]
        }
      ]
    },
    {
      "cell_type": "markdown",
      "source": [
        "## 課題5"
      ],
      "metadata": {
        "id": "R2MvOK4wHJlK"
      }
    },
    {
      "cell_type": "markdown",
      "source": [
        "for文を使って、以下のように出力してください"
      ],
      "metadata": {
        "id": "ddMIUoaKHcwd"
      }
    },
    {
      "cell_type": "markdown",
      "source": [
        "![vDUi5eM.png](https://imgur.com/vDUi5eM.png)"
      ],
      "metadata": {
        "id": "CD1cVUlWHLVO"
      }
    },
    {
      "cell_type": "code",
      "source": [
        "# 入力用\n",
        "n=4\n",
        "for i in range(1,n):\n",
        "  print(' '*(n-i)+'*'*(2*i-1)+' '*(2*(n-i)-1)+'*'*(2*i-1))\n",
        "print('*'*(4*n-3)) \n",
        "for j in range(n-1,0,-1):\n",
        "  print(' '*(n-j)+'*'*(2*j-1)+' '*(2*(n-j)-1)+'*'*(2*j-1))\n",
        "    "
      ],
      "metadata": {
        "id": "1pDkfJpUHd93",
        "colab": {
          "base_uri": "https://localhost:8080/"
        },
        "outputId": "898d36b1-131f-4c3c-c771-cf8a9856284d"
      },
      "execution_count": null,
      "outputs": [
        {
          "output_type": "stream",
          "name": "stdout",
          "text": [
            "   *     *\n",
            "  ***   ***\n",
            " ***** *****\n",
            "*************\n",
            " ***** *****\n",
            "  ***   ***\n",
            "   *     *\n"
          ]
        }
      ]
    },
    {
      "cell_type": "markdown",
      "source": [
        "## 課題6"
      ],
      "metadata": {
        "id": "oubbafOBHerl"
      }
    },
    {
      "cell_type": "markdown",
      "source": [
        "課題5の場合を`n=4`として、nを自分で設定して出力できるようにしてください"
      ],
      "metadata": {
        "id": "7SzgFdC-HzG9"
      }
    },
    {
      "cell_type": "markdown",
      "source": [
        "＜例＞ n=5の場合  \n",
        "\n",
        "![udkVlYG.png](https://imgur.com/udkVlYG.png)"
      ],
      "metadata": {
        "id": "LY8g9PVPH2OW"
      }
    },
    {
      "cell_type": "code",
      "source": [
        "# 入力用\n",
        "n=int(input())\n",
        "for i in range(1,n):\n",
        "  print(' '*(n-i)+'*'*(2*i-1)+' '*(2*(n-i)-1)+'*'*(2*i-1))\n",
        "print('*'*(4*n-3)) \n",
        "for j in range(n-1,0,-1):\n",
        "  print(' '*(n-j)+'*'*(2*j-1)+' '*(2*(n-j)-1)+'*'*(2*j-1))"
      ],
      "metadata": {
        "id": "XZOK5ulbH-tu",
        "colab": {
          "base_uri": "https://localhost:8080/"
        },
        "outputId": "ab4b9a55-3fc2-468f-f7b5-5189ec97f2ad"
      },
      "execution_count": null,
      "outputs": [
        {
          "output_type": "stream",
          "name": "stdout",
          "text": [
            "4\n",
            "   *     *\n",
            "  ***   ***\n",
            " ***** *****\n",
            "*************\n",
            " ***** *****\n",
            "  ***   ***\n",
            "   *     *\n"
          ]
        }
      ]
    },
    {
      "cell_type": "markdown",
      "source": [
        "## 課題7"
      ],
      "metadata": {
        "id": "ouqTUmPQIKGF"
      }
    },
    {
      "cell_type": "markdown",
      "source": [
        "for文を使って、以下のように出力してください"
      ],
      "metadata": {
        "id": "WHSxdOHuIMRM"
      }
    },
    {
      "cell_type": "markdown",
      "source": [
        "![IuP0M16.png](https://imgur.com/IuP0M16.png)"
      ],
      "metadata": {
        "id": "-G--WFTkIM8s"
      }
    },
    {
      "cell_type": "code",
      "source": [
        "# 入力用\n",
        "n=4\n",
        "for i in range(1,n):\n",
        "  print(' '*(n-i)+'*'*(2*i-1)+' '*(2*(n-i)-1)+'*'*(2*i-1))\n",
        "print('*'*(4*n-3)) \n",
        "for j in range(n-1,1,-1):\n",
        "  print(' '*(n-j)+'*'*(2*j-1)+' '*(2*(n-j)-1)+'*'*(2*j-1))\n",
        "for i in range(1,n):\n",
        "  print(' '*(n-i)+'*'*(2*i-1)+' '*(2*(n-i)-1)+'*'*(2*i-1))\n",
        "print('*'*(4*n-3)) \n",
        "for j in range(n-1,0,-1):\n",
        "  print(' '*(n-j)+'*'*(2*j-1)+' '*(2*(n-j)-1)+'*'*(2*j-1))"
      ],
      "metadata": {
        "id": "BVXjDteuIijL",
        "colab": {
          "base_uri": "https://localhost:8080/"
        },
        "outputId": "09d8d09e-aff5-4556-ad73-2952586354ba"
      },
      "execution_count": null,
      "outputs": [
        {
          "output_type": "stream",
          "name": "stdout",
          "text": [
            "   *     *\n",
            "  ***   ***\n",
            " ***** *****\n",
            "*************\n",
            " ***** *****\n",
            "  ***   ***\n",
            "   *     *\n",
            "  ***   ***\n",
            " ***** *****\n",
            "*************\n",
            " ***** *****\n",
            "  ***   ***\n",
            "   *     *\n"
          ]
        }
      ]
    },
    {
      "cell_type": "markdown",
      "source": [
        "## 課題8"
      ],
      "metadata": {
        "id": "31u0ExX2IjWj"
      }
    },
    {
      "cell_type": "markdown",
      "source": [
        "課題7の場合を`n=4`として、nを自分で設定して出力できるようにしてください"
      ],
      "metadata": {
        "id": "zeOvmKarInpz"
      }
    },
    {
      "cell_type": "markdown",
      "source": [
        "＜例＞ n=5の場合  \n",
        "\n",
        "![AlTnu1k.png](https://imgur.com/AlTnu1k.png)"
      ],
      "metadata": {
        "id": "2uLR5sbKIov2"
      }
    },
    {
      "cell_type": "code",
      "source": [
        "# 入力用\n",
        "n=int(input())\n",
        "for i in range(1,n):\n",
        "  print(' '*(n-i)+'*'*(2*i-1)+' '*(2*(n-i)-1)+'*'*(2*i-1))\n",
        "print('*'*(4*n-3)) \n",
        "for j in range(n-1,1,-1):\n",
        "  print(' '*(n-j)+'*'*(2*j-1)+' '*(2*(n-j)-1)+'*'*(2*j-1))\n",
        "for i in range(1,n):\n",
        "  print(' '*(n-i)+'*'*(2*i-1)+' '*(2*(n-i)-1)+'*'*(2*i-1))\n",
        "print('*'*(4*n-3)) \n",
        "for j in range(n-1,0,-1):\n",
        "  print(' '*(n-j)+'*'*(2*j-1)+' '*(2*(n-j)-1)+'*'*(2*j-1))\n",
        "\n",
        "\n"
      ],
      "metadata": {
        "id": "TXJaIVbYI_Cd",
        "colab": {
          "base_uri": "https://localhost:8080/"
        },
        "outputId": "7a924622-0b08-423b-c45d-08ca108b638f"
      },
      "execution_count": null,
      "outputs": [
        {
          "output_type": "stream",
          "name": "stdout",
          "text": [
            "5\n",
            "    *       *\n",
            "   ***     ***\n",
            "  *****   *****\n",
            " ******* *******\n",
            "*****************\n",
            " ******* *******\n",
            "  *****   *****\n",
            "   ***     ***\n",
            "    *       *\n",
            "   ***     ***\n",
            "  *****   *****\n",
            " ******* *******\n",
            "*****************\n",
            " ******* *******\n",
            "  *****   *****\n",
            "   ***     ***\n",
            "    *       *\n"
          ]
        }
      ]
    }
  ]
}