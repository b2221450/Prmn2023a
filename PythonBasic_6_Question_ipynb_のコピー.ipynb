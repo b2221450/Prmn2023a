{
  "nbformat": 4,
  "nbformat_minor": 0,
  "metadata": {
    "colab": {
      "provenance": [],
      "include_colab_link": true
    },
    "kernelspec": {
      "name": "python3",
      "display_name": "Python 3"
    },
    "language_info": {
      "name": "python"
    }
  },
  "cells": [
    {
      "cell_type": "markdown",
      "metadata": {
        "id": "view-in-github",
        "colab_type": "text"
      },
      "source": [
        "<a href=\"https://colab.research.google.com/github/b2221450/Prmn2023a/blob/main/PythonBasic_6_Question_ipynb_%E3%81%AE%E3%82%B3%E3%83%94%E3%83%BC.ipynb\" target=\"_parent\"><img src=\"https://colab.research.google.com/assets/colab-badge.svg\" alt=\"Open In Colab\"/></a>"
      ]
    },
    {
      "cell_type": "markdown",
      "source": [
        "<a href=\"https://colab.research.google.com/github/kiryu-3/Prmn2023/blob/main/Python/Python_Basic/question/PythonBasic_6_Question.ipynb\" target=\"_parent\"><img src=\"https://colab.research.google.com/assets/colab-badge.svg\" alt=\"Open In Colab\"/></a>"
      ],
      "metadata": {
        "id": "TA5kKi-LY1xg"
      }
    },
    {
      "cell_type": "markdown",
      "source": [
        "# 第6章 課題"
      ],
      "metadata": {
        "id": "r-kcfL2yEU8b"
      }
    },
    {
      "cell_type": "markdown",
      "source": [
        "## 課題1"
      ],
      "metadata": {
        "id": "UqgRlaNaaWsU"
      }
    },
    {
      "cell_type": "markdown",
      "source": [
        "こちらはピコ太郎さんの「PPAP」という歌の歌詞です"
      ],
      "metadata": {
        "id": "3iPqvgvTmxUd"
      }
    },
    {
      "cell_type": "code",
      "execution_count": 6,
      "metadata": {
        "id": "gr4NZhjKSoPt"
      },
      "outputs": [],
      "source": [
        "text = \"\"\"PPAP\n",
        "I have a pen.\n",
        "I have an apple.\n",
        "Apple pen！\n",
        "I have a pen.\n",
        "I have a pineapple.\n",
        "Pineapple pen！\n",
        "Apple pen.\n",
        "Pineapple pen.\n",
        "Pen-pineapple-Apple-pen！\"\"\""
      ]
    },
    {
      "cell_type": "markdown",
      "source": [
        "上の文字列の単語の登場回数を数え、  \n",
        "出現回数の多い順にソートしたディクショナリを関数で返してください\n",
        "\n",
        "その後、そのディクショナリを出力してください"
      ],
      "metadata": {
        "id": "DuphFapxhvik"
      }
    },
    {
      "cell_type": "markdown",
      "source": [
        "大文字小文字が混ざっていますが、全て小文字に変換してください"
      ],
      "metadata": {
        "id": "MR5bMn1d0X_3"
      }
    },
    {
      "cell_type": "markdown",
      "source": [
        "＜実行結果＞  \n",
        "``` py\n",
        "{'pen': 8, 'i': 4, 'have': 4, 'apple': 4, 'pineapple': 4, 'a': 3, 'ppap': 1, 'an': 1}\n",
        "```"
      ],
      "metadata": {
        "id": "0Z2-_1dAQENU"
      }
    },
    {
      "cell_type": "code",
      "source": [
        "# 入力用\n",
        "import collections \n",
        "def word_count(text):\n",
        "  \n",
        "\n",
        "  text = text.replace('-',' ')\n",
        "  text = text.replace('.','')\n",
        "  text = text.replace('！','')\n",
        "  text = text.lower().split()\n",
        "  print(text)\n",
        "  sorted_dic=collections.Counter(text)\n",
        "  sorted_dic1=dict(sorted_dic)\n",
        "  sorted_dic2=dict(sorted(sorted_dic1.items(),key=lambda x:x[1],reverse=True))\n",
        "  return sorted_dic2\n",
        "\n",
        "# メイン部分の一例\n",
        "sorted_dic1 = word_count(text)\n",
        "print(sorted_dic1)"
      ],
      "metadata": {
        "id": "ficNVfkgR5Kv",
        "colab": {
          "base_uri": "https://localhost:8080/"
        },
        "outputId": "2737a4c8-b53b-44ef-ad71-3b33e0752535"
      },
      "execution_count": 7,
      "outputs": [
        {
          "output_type": "stream",
          "name": "stdout",
          "text": [
            "['ppap', 'i', 'have', 'a', 'pen', 'i', 'have', 'an', 'apple', 'apple', 'pen', 'i', 'have', 'a', 'pen', 'i', 'have', 'a', 'pineapple', 'pineapple', 'pen', 'apple', 'pen', 'pineapple', 'pen', 'pen', 'pineapple', 'apple', 'pen']\n",
            "{'pen': 8, 'i': 4, 'have': 4, 'apple': 4, 'pineapple': 4, 'a': 3, 'ppap': 1, 'an': 1}\n"
          ]
        }
      ]
    },
    {
      "cell_type": "markdown",
      "source": [
        "### 課題1の補足"
      ],
      "metadata": {
        "id": "DzogBUbNsrMN"
      }
    },
    {
      "cell_type": "markdown",
      "source": [
        "以下の文字列の分割方法について説明します。"
      ],
      "metadata": {
        "id": "JfgciChzstnh"
      }
    },
    {
      "cell_type": "code",
      "source": [
        "test_text = \"Pen-pineapple-Apple-pen！\""
      ],
      "metadata": {
        "id": "bjoi1QqQs1fb"
      },
      "execution_count": 8,
      "outputs": []
    },
    {
      "cell_type": "markdown",
      "source": [
        "`string.punctuation`という定数は、英文の句読点や記号などを含む特殊な文字の集合を表す定数です。"
      ],
      "metadata": {
        "id": "MY4_tDdgtBRx"
      }
    },
    {
      "cell_type": "code",
      "source": [
        "import string\n",
        "string.punctuation"
      ],
      "metadata": {
        "colab": {
          "base_uri": "https://localhost:8080/",
          "height": 36
        },
        "id": "YtLAWBb7uQYQ",
        "outputId": "9966900c-1862-4b36-e0c0-6c5c0fe12646"
      },
      "execution_count": 9,
      "outputs": [
        {
          "output_type": "execute_result",
          "data": {
            "text/plain": [
              "'!\"#$%&\\'()*+,-./:;<=>?@[\\\\]^_`{|}~'"
            ],
            "application/vnd.google.colaboratory.intrinsic+json": {
              "type": "string"
            }
          },
          "metadata": {},
          "execution_count": 9
        }
      ]
    },
    {
      "cell_type": "markdown",
      "source": [
        "`translate(str.maketrans('', '', string.punctuation))`を文字列に適用することで、  \n",
        "\" 半角の特殊文字 \" を除去することができます。\n",
        "\n",
        "文字列を処理する際によく使われる表現です。"
      ],
      "metadata": {
        "id": "OqWV7BOYu8Dn"
      }
    },
    {
      "cell_type": "code",
      "source": [
        "import string\n",
        "\n",
        "test_text = \"Pen-pineapple-Apple-pen！\"\n",
        "print(f\"特殊文字削除前：{test_text}\")\n",
        "\n",
        "# 特殊文字を除去する\n",
        "test_text = test_text.translate(str.maketrans('', '', string.punctuation))\n",
        "\n",
        "print(f\"特殊文字削除後：{test_text}\")"
      ],
      "metadata": {
        "colab": {
          "base_uri": "https://localhost:8080/"
        },
        "id": "_jUMSdbfvo98",
        "outputId": "0faa0a0a-bdfc-4d2f-94c3-6c2053e75a83"
      },
      "execution_count": 10,
      "outputs": [
        {
          "output_type": "stream",
          "name": "stdout",
          "text": [
            "特殊文字削除前：Pen-pineapple-Apple-pen！\n",
            "特殊文字削除後：PenpineappleApplepen！\n"
          ]
        }
      ]
    },
    {
      "cell_type": "markdown",
      "source": [
        "特殊文字 \"-\" を除去できました。\n",
        "\n",
        "\"！\"は全角文字なので、除去することができていません。  \n",
        "これは空文字で置き換えてしまいましょう。"
      ],
      "metadata": {
        "id": "66WUalFgwLmz"
      }
    },
    {
      "cell_type": "code",
      "source": [
        "import string\n",
        "\n",
        "test_text = \"Pen-pineapple-Apple-pen！\"\n",
        "print(f\"特殊文字削除前：{test_text}\")\n",
        "\n",
        "# \"！\"を空文字に置き換える\n",
        "test_text = test_text.replace('！', '')\n",
        "# 特殊文字を除去する\n",
        "test_text = test_text.translate(str.maketrans('', '', string.punctuation))\n",
        "\n",
        "print(f\"特殊文字削除後：{test_text}\")"
      ],
      "metadata": {
        "colab": {
          "base_uri": "https://localhost:8080/"
        },
        "id": "qU70uV_Owg4T",
        "outputId": "2368a8d0-7bd4-4bb2-a4bb-e6e239a504d9"
      },
      "execution_count": 11,
      "outputs": [
        {
          "output_type": "stream",
          "name": "stdout",
          "text": [
            "特殊文字削除前：Pen-pineapple-Apple-pen！\n",
            "特殊文字削除後：PenpineappleApplepen\n"
          ]
        }
      ]
    },
    {
      "cell_type": "markdown",
      "source": [
        "このように除去すると`PenpineappleApplepen`が一つの単語になってしまいます。\n",
        "\n",
        "そのため特殊文字を除去する前に \" - \" を空白に置き換えましょう。"
      ],
      "metadata": {
        "id": "eHcSTGMAw3oR"
      }
    },
    {
      "cell_type": "code",
      "source": [
        "import string\n",
        "\n",
        "test_text = \"Pen-pineapple-Apple-pen！\"\n",
        "print(f\"特殊文字削除前：{test_text}\")\n",
        "\n",
        "# \"！\"を空文字に置き換える\n",
        "test_text = test_text.replace('！', '')\n",
        "# \"-\"を空白に置き換える\n",
        "test_text = test_text.replace('-', ' ')\n",
        "# 特殊文字を除去する\n",
        "test_text = test_text.translate(str.maketrans('', '', string.punctuation))\n",
        "\n",
        "print(f\"特殊文字削除後：{test_text}\")"
      ],
      "metadata": {
        "colab": {
          "base_uri": "https://localhost:8080/"
        },
        "id": "JQZ4wUvMxXLi",
        "outputId": "33205379-0563-49aa-c7aa-b9f1104fa1d1"
      },
      "execution_count": 12,
      "outputs": [
        {
          "output_type": "stream",
          "name": "stdout",
          "text": [
            "特殊文字削除前：Pen-pineapple-Apple-pen！\n",
            "特殊文字削除後：Pen pineapple Apple pen\n"
          ]
        }
      ]
    },
    {
      "cell_type": "markdown",
      "source": [
        "このようにして単語を分けていきます。\n",
        "\n",
        "後は単語を分けていくだけですが、今回は大文字と小文字が混在しているので、  \n",
        "全て小文字にしてからカウントしましょう。"
      ],
      "metadata": {
        "id": "t_K_D_kix1Ww"
      }
    },
    {
      "cell_type": "code",
      "source": [
        "import string\n",
        "\n",
        "test_text = \"Pen-pineapple-Apple-pen！\"\n",
        "print(f\"特殊文字削除前：{test_text}\")\n",
        "\n",
        "# \"！\"を空文字に置き換える\n",
        "test_text = test_text.replace('！', '')\n",
        "# \"-\"を空白に置き換える\n",
        "test_text = test_text.replace('-', ' ')\n",
        "# 特殊文字を除去する\n",
        "test_text = test_text.translate(str.maketrans('', '', string.punctuation))\n",
        "\n",
        "# 単語を小文字に変換し、「改行・空白」で文字列を分割する\n",
        "test_text = test_text.lower().split()\n",
        "\n",
        "print(f\"特殊文字削除後：{test_text}\")"
      ],
      "metadata": {
        "colab": {
          "base_uri": "https://localhost:8080/"
        },
        "id": "ynG38NTvyG4v",
        "outputId": "6a61539a-4f9b-4954-d864-9055988e8551"
      },
      "execution_count": 13,
      "outputs": [
        {
          "output_type": "stream",
          "name": "stdout",
          "text": [
            "特殊文字削除前：Pen-pineapple-Apple-pen！\n",
            "特殊文字削除後：['pen', 'pineapple', 'apple', 'pen']\n"
          ]
        }
      ]
    },
    {
      "cell_type": "markdown",
      "source": [
        "## 課題2"
      ],
      "metadata": {
        "id": "HZlVs9Vivt7d"
      }
    },
    {
      "cell_type": "markdown",
      "source": [
        "成績評価を0~5の6段階でつけたいものとします。  \n",
        "\n",
        "|成績|点数|\n",
        "|:---| :--- |\n",
        "|$A$|5|\n",
        "|$B^{+}$|4|\n",
        "|$B$|3|\n",
        "|$B^{-}$|2|\n",
        "|$C^{+}$|1|\n",
        "|$C$|0|\n"
      ],
      "metadata": {
        "id": "bIsZE1q0vwyd"
      }
    },
    {
      "cell_type": "markdown",
      "source": [
        "上表のように成績を変換する関数を作成してください  "
      ],
      "metadata": {
        "id": "g8y7FrrIM0XM"
      }
    },
    {
      "cell_type": "markdown",
      "source": [
        "この科目は、「5×全15回=最大点75点」に、  \n",
        "「全14回×50点=最大点700点を25点に圧縮したもの」の和によって成績判定を行います。"
      ],
      "metadata": {
        "id": "sGR63Lq9M3QE"
      }
    },
    {
      "cell_type": "markdown",
      "source": [
        "適切に関数を使い、以下のデータの成績評価を行えるようにしてください\n",
        "\n",
        "\n"
      ],
      "metadata": {
        "id": "i9d5cECuwYJU"
      }
    },
    {
      "cell_type": "markdown",
      "source": [
        "＜例＞  \n",
        "小テストの合計点は600点だったので25点満点に圧縮すると21.42点  \n",
        "課題は全て$B^+$評価だったので4×15=60点  \n",
        "合計点81.42点なので評定は「優」"
      ],
      "metadata": {
        "id": "KJB5H4Xsaj0g"
      }
    },
    {
      "cell_type": "code",
      "source": [
        "seiseki_data = {\"課題\" : [\"B+\",\"A\",\"B+\",\"A\",\"A\",\"A\",\"A\",\"A\",\"B+\",\"A\",\n",
        "                       \"A\",\"B+\",\"A\",\"B+\",\"A\"] ,\n",
        "             \"小テスト\" : [50,50,50,15,40,50,50,50,50,\n",
        "                           15,45,40,50,50]\n",
        "             }"
      ],
      "metadata": {
        "id": "5rhhPCjGxPxP"
      },
      "execution_count": 14,
      "outputs": []
    },
    {
      "cell_type": "code",
      "source": [
        "# 入力用\n",
        "def hantei(data):\n",
        " b=[]\n",
        " c=data['課題']\n",
        " print(c)\n",
        " for x in c:\n",
        "   x = x.replace(\"C+\",\"1\").replace(\"C\",\"0\").replace(\"B-\",\"2\").replace(\"B+\",\"4\").replace(\"B\",\"3\").replace(\"A\",\"5\")\n",
        "   b.append(int(x))\n",
        " print(b)  \n",
        " d=sum(b)\n",
        " print(d)\n",
        " print(data['小テスト'])\n",
        " e=((sum(data['小テスト']))*25)/700\n",
        " print(e)\n",
        " f=d+e\n",
        " print(f)\n",
        " if f>=90:\n",
        "  print(\"秀\")\n",
        " elif  f>=80:\n",
        "  print(\"優\")\n",
        " elif f>=70:\n",
        "  print(\"良\")\n",
        " elif f>=60:\n",
        "  print(\"可\")\n",
        " else:\n",
        "  print(\"不可\")\n",
        "  \n",
        "      \n",
        "hantei(seiseki_data)\n"
      ],
      "metadata": {
        "id": "i_c6mOJq8P1_",
        "colab": {
          "base_uri": "https://localhost:8080/"
        },
        "outputId": "4e11753b-9289-44de-d217-902fbef6e157"
      },
      "execution_count": 15,
      "outputs": [
        {
          "output_type": "stream",
          "name": "stdout",
          "text": [
            "['B+', 'A', 'B+', 'A', 'A', 'A', 'A', 'A', 'B+', 'A', 'A', 'B+', 'A', 'B+', 'A']\n",
            "[4, 5, 4, 5, 5, 5, 5, 5, 4, 5, 5, 4, 5, 4, 5]\n",
            "70\n",
            "[50, 50, 50, 15, 40, 50, 50, 50, 50, 15, 45, 40, 50, 50]\n",
            "21.607142857142858\n",
            "91.60714285714286\n",
            "秀\n"
          ]
        }
      ]
    },
    {
      "cell_type": "markdown",
      "source": [
        "### 課題2 補足"
      ],
      "metadata": {
        "id": "E8ZRqBlkGW2D"
      }
    },
    {
      "cell_type": "markdown",
      "source": [
        "文字列を置換したいときは**`replace`メソッド**を使います。  \n",
        "\n",
        "複数回行いたいときは`replace`メソッドを複数回続けます。"
      ],
      "metadata": {
        "id": "s4IPiuNZGd96"
      }
    },
    {
      "cell_type": "code",
      "source": [
        "hantei_list = [\"60\",\"70\",\"80\",\"90\"]\n",
        "kekka_list = []\n",
        "\n",
        "\"\"\"\n",
        "リストから要素を取り出して指定の値を置換する\n",
        "\"\"\"\n",
        "for hantei in hantei_list:\n",
        "  hantei = hantei.replace(\"60\",\"可\").replace(\"70\",\"良\").replace(\"80\",\"優\").replace(\"90\",\"秀\")\n",
        "  kekka_list.append(hantei)\n",
        "\n",
        "print(kekka_list)"
      ],
      "metadata": {
        "colab": {
          "base_uri": "https://localhost:8080/"
        },
        "id": "83OyhJkDGupg",
        "outputId": "7ff1e3fc-62ab-45cd-f6f1-666ac66a8971"
      },
      "execution_count": 16,
      "outputs": [
        {
          "output_type": "stream",
          "name": "stdout",
          "text": [
            "['可', '良', '優', '秀']\n"
          ]
        }
      ]
    },
    {
      "cell_type": "markdown",
      "source": [
        "## 課題3"
      ],
      "metadata": {
        "id": "b9E8y6dGMRgE"
      }
    },
    {
      "cell_type": "markdown",
      "source": [
        "GPAを計算したいものとします。  \n",
        "成績に付与されるGPは以下の通りです。\n",
        "\n",
        "|成績|GP|\n",
        "|:---| :--- |\n",
        "|秀|4|\n",
        "|優|3|\n",
        "|良|2|\n",
        "|可|1|\n",
        "|不可|0|"
      ],
      "metadata": {
        "id": "wimEVJZUMWoL"
      }
    },
    {
      "cell_type": "markdown",
      "source": [
        "上表のように成績を変換する関数を作成してください "
      ],
      "metadata": {
        "id": "vLfMefKLNZsq"
      }
    },
    {
      "cell_type": "markdown",
      "source": [
        "GPAの計算式は以下の通りです。  \n",
        "$$\n",
        "\\frac{(GP×そのGPの単位数) の合計}{履修単位数} \n",
        "$$"
      ],
      "metadata": {
        "id": "pJ-Cltm9NbZ6"
      }
    },
    {
      "cell_type": "markdown",
      "source": [
        "以下のタプルは一単位の科目を集めたものです。  \n",
        "そのほかの科目は全て二単位です。"
      ],
      "metadata": {
        "id": "vColSqfIN8PI"
      }
    },
    {
      "cell_type": "code",
      "source": [
        "one_unit_class = (\"キャリア形成Ａ１（Ａ）\",\"千歳学(Ａ)\",\"言語リテラシー１(Ａ)\",\n",
        "                  \"理工学基礎実験１（Ａ）\",\"スポーツ総合１(Ａ)\",\"健康科学(Ａ・Ｂ)\")"
      ],
      "metadata": {
        "id": "xL2nPwOVGs4u"
      },
      "execution_count": 17,
      "outputs": []
    },
    {
      "cell_type": "markdown",
      "source": [
        "適切に関数を使い、以下のデータのGPAを算出してください"
      ],
      "metadata": {
        "id": "k_jm9pzkOFAw"
      }
    },
    {
      "cell_type": "code",
      "source": [
        "seiseki_data = {\"授業\":[\"物理学入門(Ａ・Ｂ)\",\"化学入門(Ａ・Ｂ)\",\"エレクトロニクス入門(Ａ・Ｂ)\",\n",
        "                      \"情報学基礎演習(Ａ)\",\"キャリア形成Ａ１（Ａ）\",\"千歳学(Ａ)\",\n",
        "                      \"言語リテラシー１(Ａ)\",\"微分積分学Ⅰ（Ａ）\",\"理工学基礎実験１（Ａ）\",\n",
        "                      \"理系のための基礎英語Ⅰ(Ａ)\",\"日本国憲法(遠隔)\",\"スポーツ総合１(Ａ)\",\n",
        "                      \"健康科学(Ａ・Ｂ)\"],\n",
        "              \n",
        "              \"成績\":[\"良\",\"秀\",\"秀\",\"秀\",\"秀\",\"秀\",\"秀\",\"優\",\"優\",\"秀\",\"秀\",\"優\",\"優\"]\n",
        "              }"
      ],
      "metadata": {
        "id": "hzQ83qvxHubl"
      },
      "execution_count": 18,
      "outputs": []
    },
    {
      "cell_type": "code",
      "source": [
        "# 入力用\n",
        "su1=0\n",
        "a=[]\n",
        "b=[]\n",
        "c=len(seiseki_data['授業'])\n",
        "d=seiseki_data['成績']\n",
        "for i in seiseki_data['授業']:\n",
        "  if i in one_unit_class:\n",
        "    a.append(1)\n",
        "  else:\n",
        "    a.append(2)\n",
        "print(a)   \n",
        "print(c)   \n",
        "for x in d:\n",
        "   x = x.replace(\"秀\",\"4\").replace(\"優\",\"3\").replace(\"良\",\"2\").replace(\"可\",\"1\").replace(\"不可\",\"0\")\n",
        "   b.append(int(x))\n",
        "print(b)\n",
        "for j in range(c):\n",
        "  su1=su1+a[j]*b[j] \n",
        "print(su1) \n",
        "\n",
        "print(sum(a))\n",
        "print(\"GPA\",su1/sum(a))"
      ],
      "metadata": {
        "id": "fABnfUJzPgLw",
        "colab": {
          "base_uri": "https://localhost:8080/"
        },
        "outputId": "9195e97a-6d9a-45ca-a719-10639d1ce447"
      },
      "execution_count": 19,
      "outputs": [
        {
          "output_type": "stream",
          "name": "stdout",
          "text": [
            "[2, 2, 2, 2, 1, 1, 1, 2, 1, 2, 2, 1, 1]\n",
            "13\n",
            "[2, 4, 4, 4, 4, 4, 4, 3, 3, 4, 4, 3, 3]\n",
            "71\n",
            "20\n",
            "GPA 3.55\n"
          ]
        }
      ]
    }
  ]
}